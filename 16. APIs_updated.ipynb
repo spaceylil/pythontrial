{
 "cells": [
  {
   "cell_type": "markdown",
   "metadata": {},
   "source": [
    "## APIs\n",
    "\n",
    "<img src = \"img/16_ APIs0.png\">"
   ]
  },
  {
   "cell_type": "markdown",
   "metadata": {},
   "source": [
    "#### Our learning goals \n",
    "\n",
    "- Make HTTP requests   for data   to external API sources.\n",
    "- Evaluate   API documentation to determine data contents, accessibility, and request formatting.\n"
   ]
  },
  {
   "cell_type": "markdown",
   "metadata": {},
   "source": [
    "Before starting, we'll need an API key to use a weather API for our first coding challenge, so let's walk through the process together  _[as described in their documentation.](https://openweathermap.org/appid)_  \n",
    "\n",
    "Don't worry: we'll learn what a key is, and why it's important, later on!\n",
    "\n",
    "It may take their system a little time to respond with your unique API key, but they should be in place by the time we get to our code challenge."
   ]
  },
  {
   "cell_type": "markdown",
   "metadata": {},
   "source": [
    "### What Are APIs?\n",
    "\n",
    "#### External Data\n",
    "\n",
    "Have you ever needed information that wasn’t r eady to go  in a file? Things like reference information, up-to-the-minute updated data, or data from an external vendor or another team within your organization?\n",
    "\n",
    "__How can we go about sourcing that information, and what problems did you encounter?__\n",
    "\n",
    "#### Welcome to the Neighborhood!\n",
    "\n",
    "APIs, or __application programming interfaces__, are data sources that can give you access to information from all sorts of places on the internet. Simply put, an API is a system that receives <span style=\"color: red;font-weight: bold\">requests </span> and returns <span style=\"color: blue;font-weight: bold\">responses</span>.  \n",
    "\n",
    "<img src = \"img/16_API_exchange.png\">\n",
    "\n",
    "#### It's All Interfaces \n",
    "\n",
    "We are used to numerous __interfaces__ in real life. For example:\n",
    "\n",
    "- __A door handle :__  We don’t care how a door works, all   that   we expect is that pushing or pulling the handle will open the door. \n",
    "\n",
    "- __File → Print :__   We don’t care how the computer prints the document, all that we expect is that using the “Print” option in the “File” menu will result in the document being printed.\n",
    "\n",
    "#### What Kind of Data Is Served Up With an API?\n",
    "\n",
    "It’d be difficult to find data that __doesn’t__ have an API. Common uses are:\n",
    "\n",
    "- __Social media integration__ : When you post something on Instagram, you can automatically have it post to Facebook as well.\n",
    "\n",
    "- __Payment APIs__  : When you want to send or receive money via Venmo (US) or Beem (in AU), the app directly interfaces with your bank or financial institution.\n",
    "\n",
    "- __Maps__ : Many apps like Uber, Lyft, and Waze are built on top of existing map services like Google Maps or Mapbox.\n",
    "\n",
    "An extensive list of public APIs can be found here: \n",
    "_[https://github.com/public-apis/public-apis](https://github.com/public-apis/public-apis)_\n"
   ]
  },
  {
   "cell_type": "markdown",
   "metadata": {},
   "source": [
    "### Requesting Data\n",
    "\n",
    "#### APIs Sound Great! How Do I Get Started?!\n",
    "\n",
    "API requests use HTTP, so  the way to request information from an API may look somewhat familiar to you!\n",
    "\n",
    "http://www.domain.com:1234/path/to/resource?a=b&x=y\n",
    "\n",
    "It’s a URL address, like what you type when you want to go to any website. But there’s more here than meets the eye. Let’s talk about each part of this address individually.\n",
    "\n",
    "<img src=\"img/16_API_adress.png\">\n",
    "\n",
    "\n",
    "#### Request Methods \n",
    "\n"
   ]
  },
  {
   "cell_type": "markdown",
   "metadata": {},
   "source": [
    "\n",
    "<div class=\"alert alert-block alert-danger\"> \n",
    "    <b>GET</b>\n",
    "\n",
    "- Retrieve Information \n",
    "\n",
    "- Used by your browser's adress bar every time you visit a website</div>\n",
    "\n",
    "<div class=\"alert alert-block alert-success\"> \n",
    "    <b>POST</b>\n",
    "    \n",
    "- Send information.\n",
    "    \n",
    "- Used by most forms to submit data, such as logging in or creating a new post.\n",
    "</div>\n",
    "\n",
    "\n",
    "<div class=\"alert alert-block alert-info\"> \n",
    "    <b>PUT</b> \n",
    "    \n",
    "- Update information.\n",
    "- Requests to change information in a database.\n",
    " </div>\n",
    "\n",
    "\n",
    "\n",
    "<div class=\"alert alert-block alert-warning\"> \n",
    "<b>DELETE</b> \n",
    "    \n",
    "- Delete information.\n",
    "\n",
    "</div>\n"
   ]
  },
  {
   "cell_type": "markdown",
   "metadata": {},
   "source": [
    "#### Requesting Data With <code>requests</code>\n",
    "\n",
    "Once you have identified an address and a method, you can send a request using Python's <code>requests</code> library.\n",
    "\n",
    "<code>__import requests\n",
    "data = requests.<span style=\"background-color: #FFFF00;font-weight: bold\">get</span>(address)__</code>\n",
    "\n",
    "__What other methods might there be?__"
   ]
  },
  {
   "cell_type": "markdown",
   "metadata": {},
   "source": [
    "### JSON\n",
    "\n",
    "<img style=\"float: right;\" width =40%; src=\"img/16_ APIs4.png\" >\n",
    "\n",
    "API endpoints will almost always return __JSON-formatted data __.\n",
    "\n",
    "{  \n",
    "\n",
    "&nbsp;&nbsp;&nbsp;&nbsp;“data”: “car”,           \n",
    "&nbsp;&nbsp;&nbsp;&nbsp;“make”: “ford”,             \n",
    "&nbsp;&nbsp;&nbsp;&nbsp;“model”: “focus”          \n",
    "&nbsp;&nbsp;&nbsp;&nbsp;“details”: {                                  \n",
    "&nbsp;&nbsp;&nbsp;&nbsp;&nbsp;&nbsp;&nbsp;&nbsp;   “color” : “blue”,                                   \n",
    "&nbsp;&nbsp;&nbsp;&nbsp;&nbsp;&nbsp;&nbsp;&nbsp;   “mileage” : “54019”    \n",
    "&nbsp;&nbsp;&nbsp;&nbsp;  }                          \n",
    "}\n",
    "\n",
    "__Does this look like a Python data structure?__"
   ]
  },
  {
   "cell_type": "markdown",
   "metadata": {},
   "source": [
    "#### Dealing with JSON \n",
    "\n",
    "It's __JSON__ (JavaScript Object Notation!). \n",
    "\n",
    "However, the <code>requests</code>  library has a built-in JSON decoder to turn JSON into a Python dictionary.\n",
    "\n",
    "\n",
    "<code>__data = request.get(address)\n",
    "parsed_data = data.json()__</code>\n",
    "\n",
    "#### Many-Layered Objects!\n",
    "\n",
    "API response objects are infamously complex in their formats. To dig down to the layer of information you actually want, carefully examine one layer at a time until you reach the data you’re looking for.\n"
   ]
  },
  {
   "cell_type": "code",
   "execution_count": 4,
   "metadata": {},
   "outputs": [
    {
     "name": "stdout",
     "output_type": "stream",
     "text": [
      "Here is the whole dictionnary : \n",
      "{'data': 'car', 'make': 'ford', 'model': 'focus', 'details': {'color': 'blue', 'mileage': '54019'}}\n",
      "Give us the smaller dictionnary : \n",
      "{'color': 'blue', 'mileage': '54019'}\n",
      "Finally, what is the color of the car? \n",
      "blue\n"
     ]
    }
   ],
   "source": [
    "response = {\n",
    "  \"data\": \"car\",\n",
    "  \"make\": \"ford\",\n",
    "  \"model\": \"focus\",\n",
    "  \"details\": {\n",
    "      \"color\" : \"blue\",\n",
    "      \"mileage\" : \"54019\"\n",
    "  }\n",
    "};\n",
    "\n",
    "print(\"Here is the whole dictionnary : \")\n",
    "print(response)\n",
    "# gives us the whole dictionary\n",
    "\n",
    "print(\"Give us the smaller dictionnary : \")\n",
    "print(response[\"details\"])\n",
    "# gives us the smaller dictionary\n",
    "\n",
    "print(\"Finally, what is the color of the car? \")\n",
    "print(response[\"details\"][\"color\"])\n",
    "# finally, gives us \"blue\"\n"
   ]
  },
  {
   "cell_type": "markdown",
   "metadata": {},
   "source": [
    "#### API Keys\n",
    "\n",
    "<img style=\"float: right;\" width =25%; src=\"img/16_ APIs5.png\" >\n",
    "</br>\n",
    "</br>\n",
    "Many APIs require you to include a   key   with your request. You can think of this like a password that prevents someone from misusing the API.\n",
    "\n",
    "</br>\n",
    "</br>\n",
    "Keys are also used to track your requests for rate limits and potential charges. Don’t worry, most APIs have a free tier!   You can register with the API’s website to receive your unique key.\n"
   ]
  },
  {
   "cell_type": "markdown",
   "metadata": {},
   "source": [
    "### <font color=#11AA22>Practice/Homework 16.1 : Weather API Application (20 min) </font> "
   ]
  },
  {
   "cell_type": "code",
   "execution_count": 5,
   "metadata": {},
   "outputs": [
    {
     "name": "stdout",
     "output_type": "stream",
     "text": [
      "Choose [c] for current weather, [f] for a forecast, and [q] to quit.c\n",
      "What location would you like the current weather for: sunny\n",
      "Choose [c] for current weather, [f] for a forecast, and [q] to quit.f\n",
      "What location would you like a forecast for?Sydney\n",
      "How many timestamps would you like (choose up to 40)20\n",
      "Choose [c] for current weather, [f] for a forecast, and [q] to quit.q\n"
     ]
    }
   ],
   "source": [
    "# 7.1 Weather You Like It Or Not\n",
    "# Complete the weather application below\n",
    "\n",
    "command = \"\"\n",
    "while(command != \"q\"):\n",
    "    command = input(\"Choose [c] for current weather, [f] for a forecast, and [q] to quit.\")\n",
    "    if(command == \"c\"):\n",
    "        location = input(\"What location would you like the current weather for: \")\n",
    "        # A. Use the location string to send a search query to this endpoint: \n",
    "        # https://openweathermap.org/current#one\n",
    "        # Then, print \"The weather in _____ is _______ degrees\" using the location and temperature result\n",
    "    if(command == \"f\"):\n",
    "        location = input(\"What location would you like a forecast for?\")\n",
    "        count = input(\"How many timestamps would you like (choose up to 40)\")\n",
    "        # B. Use the location and count variables for a request to this endpoint: \n",
    "        # https://openweathermap.org/forecast5\n",
    "        # Then, loop through the list and display each timestamp's result however you'd like"
   ]
  },
  {
   "cell_type": "markdown",
   "metadata": {},
   "source": [
    "### Evaluating APIs\n",
    "\n",
    "# Read the Docs\n",
    "\n",
    "Every API is unique — you will have to explore its documentation to figure out what data you want to access and what URL to use in order to send requests. However, there are a few standard details to check for in any API:\n",
    "\n",
    "1. __Do I need an API key?__\n",
    "    1. If so, are there rate limits or charges for requests?\n",
    "    2. How do I include the key in my requests?   \n",
    "    \n",
    "1. __What are the available endpoints for data?__\n",
    "    1. What URL format can search for specific data? \n",
    "1. __What will the response data look like?__\n",
    "    1. Typically the response will be JSON? "
   ]
  },
  {
   "cell_type": "markdown",
   "metadata": {},
   "source": [
    "### <font color=#11AA22>Practice/Homework 16.2 : API Scavenger Hunt (20 min) </font> \n",
    "\n",
    "APIs open up a whole world of new information to our Python programs. Let’s see just how much information you can find in this section. \n",
    "\n",
    "_[public-apis project](https://github.com/public-apis/public-apis)_ \n"
   ]
  },
  {
   "cell_type": "code",
   "execution_count": 1,
   "metadata": {},
   "outputs": [],
   "source": [
    "# Use any API from the link below and make requests to answer as many questions as you can\n",
    "# https://github.com/public-apis/public-apis"
   ]
  },
  {
   "cell_type": "code",
   "execution_count": null,
   "metadata": {},
   "outputs": [],
   "source": [
    "# A. How many Yen will my $100 US Dollars convert to at today's exchange rates?"
   ]
  },
  {
   "cell_type": "code",
   "execution_count": null,
   "metadata": {},
   "outputs": [],
   "source": [
    "# B. How many shares of MSFT can I buy for that same $100?"
   ]
  },
  {
   "cell_type": "code",
   "execution_count": null,
   "metadata": {},
   "outputs": [],
   "source": [
    "# C. When is the next train arriving at _______? (choose any location)"
   ]
  },
  {
   "cell_type": "code",
   "execution_count": null,
   "metadata": {},
   "outputs": [],
   "source": [
    "# D. Find me a job posting to help my unemployed Graphic Designer friend."
   ]
  },
  {
   "cell_type": "code",
   "execution_count": null,
   "metadata": {},
   "outputs": [],
   "source": [
    "# E. My roommate says they study \"epistemology\". What does that even mean?"
   ]
  },
  {
   "cell_type": "markdown",
   "metadata": {},
   "source": [
    "In today’s class, we…\n",
    "\n",
    "- Made HTTP requests for data to external API sources.\n",
    "- Evaluated API documentation to determine data contents, accessibility, and request formatting.\n",
    "\n",
    "On your own:\n",
    "\n",
    "- Watch “Objects and Classes in Python”\n",
    "\n",
    "Next Class: \n",
    "\n",
    "- Flask!\n",
    "\n",
    "\n",
    "\n",
    "\n",
    "# Don’t Forget: Exit Tickets!\n",
    "\n",
    "bit.ly/pyth19anz"
   ]
  }
 ],
 "metadata": {
  "kernelspec": {
   "display_name": "Python 3 (ipykernel)",
   "language": "python",
   "name": "python3"
  },
  "language_info": {
   "codemirror_mode": {
    "name": "ipython",
    "version": 3
   },
   "file_extension": ".py",
   "mimetype": "text/x-python",
   "name": "python",
   "nbconvert_exporter": "python",
   "pygments_lexer": "ipython3",
   "version": "3.11.5"
  }
 },
 "nbformat": 4,
 "nbformat_minor": 4
}
